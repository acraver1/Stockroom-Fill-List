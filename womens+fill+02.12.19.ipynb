{
 "cells": [
  {
   "cell_type": "code",
   "execution_count": 1,
   "metadata": {
    "collapsed": true
   },
   "outputs": [],
   "source": [
    "import pandas as pd\n",
    "import numpy as np\n"
   ]
  },
  {
   "cell_type": "code",
   "execution_count": 2,
   "metadata": {
    "collapsed": true
   },
   "outputs": [],
   "source": [
    "full_womens = pd.read_excel('full_womens.xlsx') #create dataframe for total inventory\n",
    "primary = pd.read_excel('primary_womens.xlsx') #create dataframe for sublocation "
   ]
  },
  {
   "cell_type": "code",
   "execution_count": 3,
   "metadata": {},
   "outputs": [
    {
     "data": {
      "text/html": [
       "<div>\n",
       "<style scoped>\n",
       "    .dataframe tbody tr th:only-of-type {\n",
       "        vertical-align: middle;\n",
       "    }\n",
       "\n",
       "    .dataframe tbody tr th {\n",
       "        vertical-align: top;\n",
       "    }\n",
       "\n",
       "    .dataframe thead th {\n",
       "        text-align: right;\n",
       "    }\n",
       "</style>\n",
       "<table border=\"1\" class=\"dataframe\">\n",
       "  <thead>\n",
       "    <tr style=\"text-align: right;\">\n",
       "      <th></th>\n",
       "      <th>Desc1</th>\n",
       "      <th>Desc2</th>\n",
       "      <th>Attr</th>\n",
       "      <th>Size</th>\n",
       "      <th>Str OH Qty</th>\n",
       "      <th>Global UPC Filter</th>\n",
       "    </tr>\n",
       "  </thead>\n",
       "  <tbody>\n",
       "    <tr>\n",
       "      <th>0</th>\n",
       "      <td>77050</td>\n",
       "      <td>CAMPUS 14L</td>\n",
       "      <td>BLK</td>\n",
       "      <td>6.5</td>\n",
       "      <td>1</td>\n",
       "      <td>787935003800</td>\n",
       "    </tr>\n",
       "    <tr>\n",
       "      <th>1</th>\n",
       "      <td>77050</td>\n",
       "      <td>CAMPUS 14L</td>\n",
       "      <td>BLK</td>\n",
       "      <td>7.0</td>\n",
       "      <td>1</td>\n",
       "      <td>787935003817</td>\n",
       "    </tr>\n",
       "    <tr>\n",
       "      <th>2</th>\n",
       "      <td>77050</td>\n",
       "      <td>CAMPUS 14L</td>\n",
       "      <td>BLK</td>\n",
       "      <td>9.0</td>\n",
       "      <td>1</td>\n",
       "      <td>787935003855</td>\n",
       "    </tr>\n",
       "    <tr>\n",
       "      <th>3</th>\n",
       "      <td>77050</td>\n",
       "      <td>CAMPUS 14L</td>\n",
       "      <td>BLK</td>\n",
       "      <td>9.5</td>\n",
       "      <td>1</td>\n",
       "      <td>787935003862</td>\n",
       "    </tr>\n",
       "    <tr>\n",
       "      <th>4</th>\n",
       "      <td>77050</td>\n",
       "      <td>CAMPUS 14L</td>\n",
       "      <td>BLK</td>\n",
       "      <td>6.0</td>\n",
       "      <td>1</td>\n",
       "      <td>787935003794</td>\n",
       "    </tr>\n",
       "  </tbody>\n",
       "</table>\n",
       "</div>"
      ],
      "text/plain": [
       "   Desc1       Desc2 Attr  Size  Str OH Qty  Global UPC Filter\n",
       "0  77050  CAMPUS 14L  BLK   6.5           1       787935003800\n",
       "1  77050  CAMPUS 14L  BLK   7.0           1       787935003817\n",
       "2  77050  CAMPUS 14L  BLK   9.0           1       787935003855\n",
       "3  77050  CAMPUS 14L  BLK   9.5           1       787935003862\n",
       "4  77050  CAMPUS 14L  BLK   6.0           1       787935003794"
      ]
     },
     "execution_count": 3,
     "metadata": {},
     "output_type": "execute_result"
    }
   ],
   "source": [
    "full_womens.head() #view first 5 lines of total inventory"
   ]
  },
  {
   "cell_type": "code",
   "execution_count": 4,
   "metadata": {},
   "outputs": [
    {
     "data": {
      "text/html": [
       "<div>\n",
       "<style scoped>\n",
       "    .dataframe tbody tr th:only-of-type {\n",
       "        vertical-align: middle;\n",
       "    }\n",
       "\n",
       "    .dataframe tbody tr th {\n",
       "        vertical-align: top;\n",
       "    }\n",
       "\n",
       "    .dataframe thead th {\n",
       "        text-align: right;\n",
       "    }\n",
       "</style>\n",
       "<table border=\"1\" class=\"dataframe\">\n",
       "  <thead>\n",
       "    <tr style=\"text-align: right;\">\n",
       "      <th></th>\n",
       "      <th>Desc1</th>\n",
       "      <th>Desc2</th>\n",
       "      <th>Attr</th>\n",
       "      <th>Size</th>\n",
       "      <th>Str Qty</th>\n",
       "      <th>Local UPC</th>\n",
       "    </tr>\n",
       "  </thead>\n",
       "  <tbody>\n",
       "    <tr>\n",
       "      <th>0</th>\n",
       "      <td>70234</td>\n",
       "      <td>ELYSSA OXFORD</td>\n",
       "      <td>BLK</td>\n",
       "      <td>7.0</td>\n",
       "      <td>1</td>\n",
       "      <td>190918274287</td>\n",
       "    </tr>\n",
       "    <tr>\n",
       "      <th>1</th>\n",
       "      <td>70555</td>\n",
       "      <td>WILLOW LOW LACE</td>\n",
       "      <td>SND</td>\n",
       "      <td>10.0</td>\n",
       "      <td>1</td>\n",
       "      <td>190918348346</td>\n",
       "    </tr>\n",
       "    <tr>\n",
       "      <th>2</th>\n",
       "      <td>70555</td>\n",
       "      <td>WILLOW LOW LACE</td>\n",
       "      <td>SND</td>\n",
       "      <td>9.5</td>\n",
       "      <td>1</td>\n",
       "      <td>190918348339</td>\n",
       "    </tr>\n",
       "    <tr>\n",
       "      <th>3</th>\n",
       "      <td>70555</td>\n",
       "      <td>WILLOW LOW LACE</td>\n",
       "      <td>SND</td>\n",
       "      <td>9.0</td>\n",
       "      <td>1</td>\n",
       "      <td>190918348322</td>\n",
       "    </tr>\n",
       "    <tr>\n",
       "      <th>4</th>\n",
       "      <td>70555</td>\n",
       "      <td>WILLOW LOW LACE</td>\n",
       "      <td>SND</td>\n",
       "      <td>8.5</td>\n",
       "      <td>1</td>\n",
       "      <td>190918348315</td>\n",
       "    </tr>\n",
       "  </tbody>\n",
       "</table>\n",
       "</div>"
      ],
      "text/plain": [
       "   Desc1            Desc2 Attr  Size  Str Qty     Local UPC\n",
       "0  70234    ELYSSA OXFORD  BLK   7.0        1  190918274287\n",
       "1  70555  WILLOW LOW LACE  SND  10.0        1  190918348346\n",
       "2  70555  WILLOW LOW LACE  SND   9.5        1  190918348339\n",
       "3  70555  WILLOW LOW LACE  SND   9.0        1  190918348322\n",
       "4  70555  WILLOW LOW LACE  SND   8.5        1  190918348315"
      ]
     },
     "execution_count": 4,
     "metadata": {},
     "output_type": "execute_result"
    }
   ],
   "source": [
    "primary.head() #view first 5 lines of sublocation "
   ]
  },
  {
   "cell_type": "code",
   "execution_count": 5,
   "metadata": {
    "collapsed": true
   },
   "outputs": [],
   "source": [
    "full_list = list(full_womens['Global UPC Filter']) #create a list of the Global UPC Filter"
   ]
  },
  {
   "cell_type": "code",
   "execution_count": 6,
   "metadata": {
    "collapsed": true
   },
   "outputs": [],
   "source": [
    "primary_list = list(primary['Local UPC']) #create a list of the Local UPC "
   ]
  },
  {
   "cell_type": "code",
   "execution_count": 7,
   "metadata": {},
   "outputs": [
    {
     "name": "stdout",
     "output_type": "stream",
     "text": [
      "[787936404675 888542337507 888542393756 888542393763 888542367375\n",
      " 888542755523 190233562991 190918079172 190918079257 190918078571\n",
      " 190918107349 190918077598 190918098173 190918077628 190918019253\n",
      " 190918078069 190918081205 190918042794 190918028538 190918078236\n",
      " 190918073422 190918073460 190918023199 190918081274 190918091150\n",
      " 190918081359 190918075303 190918120737 190918336459 190918364025\n",
      " 190918412139 190918398693 190918399843 190918399140 190918399157\n",
      " 190918398266 190918398273 190918367842 190918354989 190918408194\n",
      " 190918397573 190918409818 190918400907 190918397610 190918410142\n",
      " 190918363271 190918367057 190918366920 190918327662 190918343082\n",
      " 190918288000 190918321431 190918321547 190918367309 190918327150\n",
      " 190918366029 190918346557 190918343389 190918270500 190918347097\n",
      " 190918272207 190918337470]\n"
     ]
    }
   ],
   "source": [
    "main_list = np.setdiff1d(full_list,primary_list, assume_unique=True) #Create list of items missing for sublocation\n",
    "print(main_list) #print list"
   ]
  },
  {
   "cell_type": "code",
   "execution_count": 11,
   "metadata": {
    "collapsed": true
   },
   "outputs": [],
   "source": [
    "missing_styles = full_womens[full_womens['Global UPC Filter'].isin(main_list)] #dataframe of missing styles"
   ]
  },
  {
   "cell_type": "code",
   "execution_count": 12,
   "metadata": {
    "collapsed": true
   },
   "outputs": [],
   "source": [
    "missing_styles.to_excel(\"missing_wommens.xlsx\") #export dataframe to excel file "
   ]
  },
  {
   "cell_type": "code",
   "execution_count": null,
   "metadata": {
    "collapsed": true
   },
   "outputs": [],
   "source": []
  }
 ],
 "metadata": {
  "kernelspec": {
   "display_name": "Python [conda env:anaconda3]",
   "language": "python",
   "name": "conda-env-anaconda3-py"
  },
  "language_info": {
   "codemirror_mode": {
    "name": "ipython",
    "version": 3
   },
   "file_extension": ".py",
   "mimetype": "text/x-python",
   "name": "python",
   "nbconvert_exporter": "python",
   "pygments_lexer": "ipython3",
   "version": "3.6.3"
  }
 },
 "nbformat": 4,
 "nbformat_minor": 2
}
